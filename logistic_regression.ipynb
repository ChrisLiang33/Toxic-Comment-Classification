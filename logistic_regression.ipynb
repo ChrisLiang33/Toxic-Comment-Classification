{
  "nbformat": 4,
  "nbformat_minor": 0,
  "metadata": {
    "colab": {
      "provenance": []
    },
    "kernelspec": {
      "name": "python3",
      "display_name": "Python 3"
    },
    "language_info": {
      "name": "python"
    }
  },
  "cells": [
    {
      "cell_type": "code",
      "execution_count": null,
      "metadata": {
        "colab": {
          "base_uri": "https://localhost:8080/"
        },
        "id": "cnRpA-Rdygae",
        "outputId": "caf7a53a-b53b-48e1-cb76-c9dbb59b5a60"
      },
      "outputs": [
        {
          "output_type": "stream",
          "name": "stdout",
          "text": [
            "CV score for class toxic is 0.9787491694708921\n",
            "CV score for class severe_toxic is 0.9887821641495279\n",
            "CV score for class obscene is 0.9902790717544813\n",
            "CV score for class threat is 0.9887823310014036\n",
            "CV score for class insult is 0.9828211923924393\n",
            "CV score for class identity_hate is 0.9831332992003762\n",
            "Total CV score is 0.9854245379948533\n"
          ]
        }
      ],
      "source": [
        "import numpy as np\n",
        "import pandas as pd\n",
        "\n",
        "from sklearn.feature_extraction.text import TfidfVectorizer\n",
        "from sklearn.linear_model import LogisticRegression\n",
        "from sklearn.model_selection import cross_val_score\n",
        "from sklearn.pipeline import make_union\n",
        "\n",
        "class_names = ['toxic', 'severe_toxic', 'obscene', 'threat', 'insult', 'identity_hate']\n",
        "\n",
        "train = pd.read_csv('/content/train.csv').fillna(' ')\n",
        "test = pd.read_csv('/content/test.csv').fillna(' ')\n",
        "\n",
        "train_text = train['comment_text']\n",
        "test_text = test['comment_text']\n",
        "all_text = pd.concat([train_text, test_text])\n",
        "\n",
        "word_vectorizer = TfidfVectorizer(\n",
        "    sublinear_tf=True,\n",
        "    strip_accents='unicode',\n",
        "    analyzer='word',\n",
        "    token_pattern=r'\\w{1,}',\n",
        "    ngram_range=(1, 1),\n",
        "    max_features=30000)\n",
        "char_vectorizer = TfidfVectorizer(\n",
        "    sublinear_tf=True,\n",
        "    strip_accents='unicode',\n",
        "    analyzer='char',\n",
        "    ngram_range=(1, 4),\n",
        "    max_features=30000)\n",
        "vectorizer = make_union(word_vectorizer, char_vectorizer, n_jobs=2)\n",
        "\n",
        "vectorizer.fit(all_text)\n",
        "train_features = vectorizer.transform(train_text)\n",
        "test_features = vectorizer.transform(test_text)\n",
        "\n",
        "scores = []\n",
        "submission = pd.DataFrame.from_dict({'id': test['id']})\n",
        "for class_name in class_names:\n",
        "    train_target = train[class_name]\n",
        "    classifier = LogisticRegression(solver='sag')\n",
        "\n",
        "    cv_score = np.mean(cross_val_score(\n",
        "        classifier, train_features, train_target, cv=3, scoring='roc_auc'))\n",
        "    scores.append(cv_score)\n",
        "    print('CV score for class {} is {}'.format(class_name, cv_score))\n",
        "\n",
        "    classifier.fit(train_features, train_target)\n",
        "    submission[class_name] = classifier.predict_proba(test_features)[:, 1]\n",
        "\n",
        "print('Total CV score is {}'.format(np.mean(scores)))\n",
        "\n",
        "submission.to_csv('submission.csv', index=False)"
      ]
    }
  ]
}