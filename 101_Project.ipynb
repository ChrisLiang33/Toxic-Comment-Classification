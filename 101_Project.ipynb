{
  "cells": [
    {
      "cell_type": "code",
      "execution_count": null,
      "metadata": {
        "execution": {
          "iopub.execute_input": "2023-09-26T13:11:13.337181Z",
          "iopub.status.busy": "2023-09-26T13:11:13.336702Z",
          "iopub.status.idle": "2023-09-26T13:11:14.992487Z",
          "shell.execute_reply": "2023-09-26T13:11:14.991644Z",
          "shell.execute_reply.started": "2023-09-26T13:11:13.337155Z"
        },
        "trusted": true,
        "id": "PgvL7smkjFXe"
      },
      "outputs": [],
      "source": [
        "# Importing Neccessary Libraries\n",
        "import os\n",
        "import pandas as pd\n",
        "import numpy as np\n",
        "import seaborn as sns\n",
        "import matplotlib.pyplot as plt\n",
        "import warnings\n",
        "warnings.filterwarnings('ignore')"
      ]
    },
    {
      "cell_type": "code",
      "execution_count": null,
      "metadata": {
        "execution": {
          "iopub.execute_input": "2023-09-26T13:11:38.072054Z",
          "iopub.status.busy": "2023-09-26T13:11:38.071682Z",
          "iopub.status.idle": "2023-09-26T13:11:52.930814Z",
          "shell.execute_reply": "2023-09-26T13:11:52.929847Z",
          "shell.execute_reply.started": "2023-09-26T13:11:38.072026Z"
        },
        "trusted": true,
        "id": "eHua6xRUjFXh",
        "outputId": "31f60f3f-203a-45f7-dd30-d4ac2e86428a"
      },
      "outputs": [
        {
          "name": "stdout",
          "output_type": "stream",
          "text": [
            "Collecting nlputils\n",
            "  Downloading nlputils-1.0.7-py2.py3-none-any.whl (19 kB)\n",
            "Collecting future\n",
            "  Downloading future-0.18.3.tar.gz (840 kB)\n",
            "\u001b[2K     \u001b[90m━━━━━━━━━━━━━━━━━━━━━━━━━━━━━━━━━━━━━━\u001b[0m \u001b[32m840.9/840.9 kB\u001b[0m \u001b[31m13.0 MB/s\u001b[0m eta \u001b[36m0:00:00\u001b[0ma \u001b[36m0:00:01\u001b[0m\n",
            "\u001b[?25h  Preparing metadata (setup.py) ... \u001b[?25ldone\n",
            "\u001b[?25hCollecting numpy\n",
            "  Downloading numpy-1.26.2-cp311-cp311-macosx_10_9_x86_64.whl (20.6 MB)\n",
            "\u001b[2K     \u001b[90m━━━━━━━━━━━━━━━━━━━━━━━━━━━━━━━━━━━━━━━━\u001b[0m \u001b[32m20.6/20.6 MB\u001b[0m \u001b[31m21.4 MB/s\u001b[0m eta \u001b[36m0:00:00\u001b[0m00:01\u001b[0m00:01\u001b[0m\n",
            "\u001b[?25hCollecting scipy\n",
            "  Downloading scipy-1.11.4-cp311-cp311-macosx_10_9_x86_64.whl (37.2 MB)\n",
            "\u001b[2K     \u001b[90m━━━━━━━━━━━━━━━━━━━━━━━━━━━━━━━━━━━━━━━━\u001b[0m \u001b[32m37.2/37.2 MB\u001b[0m \u001b[31m17.4 MB/s\u001b[0m eta \u001b[36m0:00:00\u001b[0m00:01\u001b[0m00:01\u001b[0m\n",
            "\u001b[?25hCollecting matplotlib\n",
            "  Downloading matplotlib-3.8.2-cp311-cp311-macosx_10_12_x86_64.whl (7.6 MB)\n",
            "\u001b[2K     \u001b[90m━━━━━━━━━━━━━━━━━━━━━━━━━━━━━━━━━━━━━━━━\u001b[0m \u001b[32m7.6/7.6 MB\u001b[0m \u001b[31m40.8 MB/s\u001b[0m eta \u001b[36m0:00:00\u001b[0m00:01\u001b[0m00:01\u001b[0m\n",
            "\u001b[?25hCollecting contourpy>=1.0.1\n",
            "  Downloading contourpy-1.2.0-cp311-cp311-macosx_10_9_x86_64.whl (258 kB)\n",
            "\u001b[2K     \u001b[90m━━━━━━━━━━━━━━━━━━━━━━━━━━━━━━━━━━━━━━\u001b[0m \u001b[32m258.2/258.2 kB\u001b[0m \u001b[31m22.7 MB/s\u001b[0m eta \u001b[36m0:00:00\u001b[0m\n",
            "\u001b[?25hCollecting cycler>=0.10\n",
            "  Downloading cycler-0.12.1-py3-none-any.whl (8.3 kB)\n",
            "Collecting fonttools>=4.22.0\n",
            "  Downloading fonttools-4.46.0-cp311-cp311-macosx_10_9_x86_64.whl (2.3 MB)\n",
            "\u001b[2K     \u001b[90m━━━━━━━━━━━━━━━━━━━━━━━━━━━━━━━━━━━━━━━━\u001b[0m \u001b[32m2.3/2.3 MB\u001b[0m \u001b[31m36.2 MB/s\u001b[0m eta \u001b[36m0:00:00\u001b[0m00:01\u001b[0m\n",
            "\u001b[?25hCollecting kiwisolver>=1.3.1\n",
            "  Downloading kiwisolver-1.4.5-cp311-cp311-macosx_10_9_x86_64.whl (68 kB)\n",
            "\u001b[2K     \u001b[90m━━━━━━━━━━━━━━━━━━━━━━━━━━━━━━━━━━━━━━━━\u001b[0m \u001b[32m68.2/68.2 kB\u001b[0m \u001b[31m4.5 MB/s\u001b[0m eta \u001b[36m0:00:00\u001b[0m\n",
            "\u001b[?25hRequirement already satisfied: packaging>=20.0 in /Users/macbook/Library/Python/3.11/lib/python/site-packages (from matplotlib->nlputils) (23.2)\n",
            "Collecting pillow>=8\n",
            "  Downloading Pillow-10.1.0-cp311-cp311-macosx_10_10_x86_64.whl (3.5 MB)\n",
            "\u001b[2K     \u001b[90m━━━━━━━━━━━━━━━━━━━━━━━━━━━━━━━━━━━━━━━━\u001b[0m \u001b[32m3.5/3.5 MB\u001b[0m \u001b[31m38.2 MB/s\u001b[0m eta \u001b[36m0:00:00\u001b[0m00:01\u001b[0m00:01\u001b[0m\n",
            "\u001b[?25hCollecting pyparsing>=2.3.1\n",
            "  Downloading pyparsing-3.1.1-py3-none-any.whl (103 kB)\n",
            "\u001b[2K     \u001b[90m━━━━━━━━━━━━━━━━━━━━━━━━━━━━━━━━━━━━━━\u001b[0m \u001b[32m103.1/103.1 kB\u001b[0m \u001b[31m11.5 MB/s\u001b[0m eta \u001b[36m0:00:00\u001b[0m\n",
            "\u001b[?25hRequirement already satisfied: python-dateutil>=2.7 in /Users/macbook/Library/Python/3.11/lib/python/site-packages (from matplotlib->nlputils) (2.8.2)\n",
            "Requirement already satisfied: six>=1.5 in /Users/macbook/Library/Python/3.11/lib/python/site-packages (from python-dateutil>=2.7->matplotlib->nlputils) (1.16.0)\n",
            "Installing collected packages: pyparsing, pillow, numpy, kiwisolver, future, fonttools, cycler, scipy, contourpy, matplotlib, nlputils\n",
            "\u001b[33m  WARNING: The script f2py is installed in '/Library/Frameworks/Python.framework/Versions/3.11/bin' which is not on PATH.\n",
            "  Consider adding this directory to PATH or, if you prefer to suppress this warning, use --no-warn-script-location.\u001b[0m\u001b[33m\n",
            "\u001b[0m\u001b[33m  DEPRECATION: future is being installed using the legacy 'setup.py install' method, because it does not have a 'pyproject.toml' and the 'wheel' package is not installed. pip 23.1 will enforce this behaviour change. A possible replacement is to enable the '--use-pep517' option. Discussion can be found at https://github.com/pypa/pip/issues/8559\u001b[0m\u001b[33m\n",
            "\u001b[0m  Running setup.py install for future ... \u001b[?25ldone\n",
            "\u001b[?25h\u001b[33m  WARNING: The scripts fonttools, pyftmerge, pyftsubset and ttx are installed in '/Library/Frameworks/Python.framework/Versions/3.11/bin' which is not on PATH.\n",
            "  Consider adding this directory to PATH or, if you prefer to suppress this warning, use --no-warn-script-location.\u001b[0m\u001b[33m\n",
            "\u001b[0mSuccessfully installed contourpy-1.2.0 cycler-0.12.1 fonttools-4.46.0 future-0.18.3 kiwisolver-1.4.5 matplotlib-3.8.2 nlputils-1.0.7 numpy-1.26.2 pillow-10.1.0 pyparsing-3.1.1 scipy-1.11.4\n",
            "\n",
            "\u001b[1m[\u001b[0m\u001b[34;49mnotice\u001b[0m\u001b[1;39;49m]\u001b[0m\u001b[39;49m A new release of pip available: \u001b[0m\u001b[31;49m22.3.1\u001b[0m\u001b[39;49m -> \u001b[0m\u001b[32;49m23.3.1\u001b[0m\n",
            "\u001b[1m[\u001b[0m\u001b[34;49mnotice\u001b[0m\u001b[1;39;49m]\u001b[0m\u001b[39;49m To update, run: \u001b[0m\u001b[32;49mpython3 -m pip install --upgrade pip\u001b[0m\n",
            "Note: you may need to restart the kernel to use updated packages.\n"
          ]
        }
      ],
      "source": [
        "pip install nlputils"
      ]
    },
    {
      "cell_type": "code",
      "execution_count": null,
      "metadata": {
        "execution": {
          "iopub.execute_input": "2023-09-26T13:11:52.932972Z",
          "iopub.status.busy": "2023-09-26T13:11:52.932651Z",
          "iopub.status.idle": "2023-09-26T13:12:06.959258Z",
          "shell.execute_reply": "2023-09-26T13:12:06.958400Z",
          "shell.execute_reply.started": "2023-09-26T13:11:52.932942Z"
        },
        "trusted": true,
        "id": "gHqP4bDCjFXi",
        "outputId": "f7351833-b17a-4c28-fb6b-d68a9e567135"
      },
      "outputs": [
        {
          "name": "stdout",
          "output_type": "stream",
          "text": [
            "Collecting contractions\n",
            "  Downloading contractions-0.1.73-py2.py3-none-any.whl (8.7 kB)\n",
            "Collecting textsearch>=0.0.21\n",
            "  Downloading textsearch-0.0.24-py2.py3-none-any.whl (7.6 kB)\n",
            "Collecting anyascii\n",
            "  Downloading anyascii-0.3.2-py3-none-any.whl (289 kB)\n",
            "\u001b[2K     \u001b[90m━━━━━━━━━━━━━━━━━━━━━━━━━━━━━━━━━━━━━━━\u001b[0m \u001b[32m289.9/289.9 kB\u001b[0m \u001b[31m2.2 MB/s\u001b[0m eta \u001b[36m0:00:00\u001b[0ma \u001b[36m0:00:01\u001b[0m\n",
            "\u001b[?25hCollecting pyahocorasick\n",
            "  Downloading pyahocorasick-2.0.0-cp311-cp311-macosx_10_9_x86_64.whl (37 kB)\n",
            "Installing collected packages: pyahocorasick, anyascii, textsearch, contractions\n",
            "Successfully installed anyascii-0.3.2 contractions-0.1.73 pyahocorasick-2.0.0 textsearch-0.0.24\n",
            "\n",
            "\u001b[1m[\u001b[0m\u001b[34;49mnotice\u001b[0m\u001b[1;39;49m]\u001b[0m\u001b[39;49m A new release of pip available: \u001b[0m\u001b[31;49m22.3.1\u001b[0m\u001b[39;49m -> \u001b[0m\u001b[32;49m23.3.1\u001b[0m\n",
            "\u001b[1m[\u001b[0m\u001b[34;49mnotice\u001b[0m\u001b[1;39;49m]\u001b[0m\u001b[39;49m To update, run: \u001b[0m\u001b[32;49mpython3 -m pip install --upgrade pip\u001b[0m\n",
            "Note: you may need to restart the kernel to use updated packages.\n"
          ]
        }
      ],
      "source": [
        "pip install contractions"
      ]
    },
    {
      "cell_type": "code",
      "execution_count": null,
      "metadata": {
        "execution": {
          "iopub.execute_input": "2023-09-26T13:12:06.961878Z",
          "iopub.status.busy": "2023-09-26T13:12:06.961478Z",
          "iopub.status.idle": "2023-09-26T13:12:07.718137Z",
          "shell.execute_reply": "2023-09-26T13:12:07.717190Z",
          "shell.execute_reply.started": "2023-09-26T13:12:06.961841Z"
        },
        "trusted": true,
        "id": "uwk45DLkjFXi"
      },
      "outputs": [],
      "source": [
        "import re\n",
        "import nltk\n",
        "import string\n",
        "import nlputils\n",
        "import contractions\n",
        "from nltk.corpus import stopwords\n",
        "from nltk.stem import WordNetLemmatizer\n",
        "from nltk.tokenize import word_tokenize,sent_tokenize\n",
        "from nltk.stem import PorterStemmer, LancasterStemmer, SnowballStemmer"
      ]
    },
    {
      "cell_type": "code",
      "execution_count": null,
      "metadata": {
        "execution": {
          "iopub.execute_input": "2023-09-26T13:15:26.295809Z",
          "iopub.status.busy": "2023-09-26T13:15:26.295373Z",
          "iopub.status.idle": "2023-09-26T13:15:41.011463Z",
          "shell.execute_reply": "2023-09-26T13:15:41.010499Z",
          "shell.execute_reply.started": "2023-09-26T13:15:26.295773Z"
        },
        "trusted": true,
        "id": "qYsahR2GjFXj"
      },
      "outputs": [],
      "source": [
        "import numpy as np\n",
        "import pandas as pd\n",
        "import matplotlib.pyplot as plt\n",
        "import seaborn as sns\n",
        "import plotly.express as px\n",
        "import plotly.offline as pyo\n",
        "import plotly.graph_objects as go\n",
        "import re\n",
        "from wordcloud import WordCloud, STOPWORDS\n",
        "\n",
        "import torch\n",
        "from torch.utils.data import DataLoader, TensorDataset\n",
        "from transformers import BertTokenizer, BertForSequenceClassification, AdamW\n",
        "from sklearn.model_selection import train_test_split\n",
        "from sklearn.metrics import accuracy_score, precision_score, recall_score\n",
        "\n",
        "import os\n",
        "import zipfile\n",
        "import warnings\n",
        "warnings.filterwarnings('ignore')\n",
        "\n"
      ]
    },
    {
      "cell_type": "code",
      "execution_count": null,
      "metadata": {
        "execution": {
          "iopub.execute_input": "2023-09-26T13:15:55.136005Z",
          "iopub.status.busy": "2023-09-26T13:15:55.135620Z",
          "iopub.status.idle": "2023-09-26T13:15:56.331381Z",
          "shell.execute_reply": "2023-09-26T13:15:56.330453Z",
          "shell.execute_reply.started": "2023-09-26T13:15:55.135976Z"
        },
        "trusted": true,
        "id": "r5LmMx5JjFXj",
        "outputId": "9b404764-b228-4269-9356-87c6ea28a012"
      },
      "outputs": [
        {
          "data": {
            "text/html": [
              "<div>\n",
              "<style scoped>\n",
              "    .dataframe tbody tr th:only-of-type {\n",
              "        vertical-align: middle;\n",
              "    }\n",
              "\n",
              "    .dataframe tbody tr th {\n",
              "        vertical-align: top;\n",
              "    }\n",
              "\n",
              "    .dataframe thead th {\n",
              "        text-align: right;\n",
              "    }\n",
              "</style>\n",
              "<table border=\"1\" class=\"dataframe\">\n",
              "  <thead>\n",
              "    <tr style=\"text-align: right;\">\n",
              "      <th></th>\n",
              "      <th>id</th>\n",
              "      <th>comment_text</th>\n",
              "      <th>toxic</th>\n",
              "      <th>severe_toxic</th>\n",
              "      <th>obscene</th>\n",
              "      <th>threat</th>\n",
              "      <th>insult</th>\n",
              "      <th>identity_hate</th>\n",
              "    </tr>\n",
              "  </thead>\n",
              "  <tbody>\n",
              "    <tr>\n",
              "      <th>126849</th>\n",
              "      <td>a65bd707f3b830cf</td>\n",
              "      <td>negative one.A negative one because I immediat...</td>\n",
              "      <td>0</td>\n",
              "      <td>0</td>\n",
              "      <td>0</td>\n",
              "      <td>0</td>\n",
              "      <td>0</td>\n",
              "      <td>0</td>\n",
              "    </tr>\n",
              "    <tr>\n",
              "      <th>108962</th>\n",
              "      <td>46970e2849faa361</td>\n",
              "      <td>\" on your user talk page, and someone will sho...</td>\n",
              "      <td>0</td>\n",
              "      <td>0</td>\n",
              "      <td>0</td>\n",
              "      <td>0</td>\n",
              "      <td>0</td>\n",
              "      <td>0</td>\n",
              "    </tr>\n",
              "    <tr>\n",
              "      <th>149851</th>\n",
              "      <td>6296d1394e8fd738</td>\n",
              "      <td>\"\\n\\nIt's wikipedia policy. It's not my idea. ...</td>\n",
              "      <td>0</td>\n",
              "      <td>0</td>\n",
              "      <td>0</td>\n",
              "      <td>0</td>\n",
              "      <td>0</td>\n",
              "      <td>0</td>\n",
              "    </tr>\n",
              "    <tr>\n",
              "      <th>1573</th>\n",
              "      <td>0439882932f5f3ca</td>\n",
              "      <td>\"\\n\\n Muhammad view of Slavery \\n\\nThe article...</td>\n",
              "      <td>0</td>\n",
              "      <td>0</td>\n",
              "      <td>0</td>\n",
              "      <td>0</td>\n",
              "      <td>0</td>\n",
              "      <td>0</td>\n",
              "    </tr>\n",
              "    <tr>\n",
              "      <th>111354</th>\n",
              "      <td>53cb562723b3bb4c</td>\n",
              "      <td>\"\\n\\nUsing article talkspace as a forum\\n\\nHey...</td>\n",
              "      <td>0</td>\n",
              "      <td>0</td>\n",
              "      <td>0</td>\n",
              "      <td>0</td>\n",
              "      <td>0</td>\n",
              "      <td>0</td>\n",
              "    </tr>\n",
              "  </tbody>\n",
              "</table>\n",
              "</div>"
            ],
            "text/plain": [
              "                      id                                       comment_text  \\\n",
              "126849  a65bd707f3b830cf  negative one.A negative one because I immediat...   \n",
              "108962  46970e2849faa361  \" on your user talk page, and someone will sho...   \n",
              "149851  6296d1394e8fd738  \"\\n\\nIt's wikipedia policy. It's not my idea. ...   \n",
              "1573    0439882932f5f3ca  \"\\n\\n Muhammad view of Slavery \\n\\nThe article...   \n",
              "111354  53cb562723b3bb4c  \"\\n\\nUsing article talkspace as a forum\\n\\nHey...   \n",
              "\n",
              "        toxic  severe_toxic  obscene  threat  insult  identity_hate  \n",
              "126849      0             0        0       0       0              0  \n",
              "108962      0             0        0       0       0              0  \n",
              "149851      0             0        0       0       0              0  \n",
              "1573        0             0        0       0       0              0  \n",
              "111354      0             0        0       0       0              0  "
            ]
          },
          "execution_count": 9,
          "metadata": {},
          "output_type": "execute_result"
        }
      ],
      "source": [
        "data = pd.read_csv(\"/content/train.csv\")\n",
        "data.sample(5)"
      ]
    },
    {
      "cell_type": "code",
      "execution_count": null,
      "metadata": {
        "execution": {
          "iopub.execute_input": "2023-09-26T13:16:05.482339Z",
          "iopub.status.busy": "2023-09-26T13:16:05.481870Z",
          "iopub.status.idle": "2023-09-26T13:16:05.554675Z",
          "shell.execute_reply": "2023-09-26T13:16:05.553496Z",
          "shell.execute_reply.started": "2023-09-26T13:16:05.482305Z"
        },
        "trusted": true,
        "id": "GPwrLURsjFXk",
        "outputId": "7ce718ae-d360-40b8-c59b-6f2c8a5fca4e"
      },
      "outputs": [
        {
          "name": "stdout",
          "output_type": "stream",
          "text": [
            "<class 'pandas.core.frame.DataFrame'>\n",
            "RangeIndex: 159571 entries, 0 to 159570\n",
            "Data columns (total 8 columns):\n",
            " #   Column         Non-Null Count   Dtype \n",
            "---  ------         --------------   ----- \n",
            " 0   id             159571 non-null  object\n",
            " 1   comment_text   159571 non-null  object\n",
            " 2   toxic          159571 non-null  int64 \n",
            " 3   severe_toxic   159571 non-null  int64 \n",
            " 4   obscene        159571 non-null  int64 \n",
            " 5   threat         159571 non-null  int64 \n",
            " 6   insult         159571 non-null  int64 \n",
            " 7   identity_hate  159571 non-null  int64 \n",
            "dtypes: int64(6), object(2)\n",
            "memory usage: 9.7+ MB\n"
          ]
        }
      ],
      "source": [
        "data.info()"
      ]
    },
    {
      "cell_type": "code",
      "execution_count": null,
      "metadata": {
        "execution": {
          "iopub.execute_input": "2023-09-26T13:16:14.221663Z",
          "iopub.status.busy": "2023-09-26T13:16:14.221228Z",
          "iopub.status.idle": "2023-09-26T13:16:14.270899Z",
          "shell.execute_reply": "2023-09-26T13:16:14.269557Z",
          "shell.execute_reply.started": "2023-09-26T13:16:14.221619Z"
        },
        "trusted": true,
        "id": "EPteYTXsjFXk",
        "outputId": "0b69c816-4b90-4f55-c966-bcfc37264194"
      },
      "outputs": [
        {
          "data": {
            "text/plain": [
              "id               0\n",
              "comment_text     0\n",
              "toxic            0\n",
              "severe_toxic     0\n",
              "obscene          0\n",
              "threat           0\n",
              "insult           0\n",
              "identity_hate    0\n",
              "dtype: int64"
            ]
          },
          "execution_count": 11,
          "metadata": {},
          "output_type": "execute_result"
        }
      ],
      "source": [
        "data.isnull().sum()"
      ]
    },
    {
      "cell_type": "code",
      "execution_count": null,
      "metadata": {
        "execution": {
          "iopub.execute_input": "2023-09-26T13:16:24.922332Z",
          "iopub.status.busy": "2023-09-26T13:16:24.921949Z",
          "iopub.status.idle": "2023-09-26T13:16:24.933171Z",
          "shell.execute_reply": "2023-09-26T13:16:24.932167Z",
          "shell.execute_reply.started": "2023-09-26T13:16:24.922304Z"
        },
        "trusted": true,
        "id": "jkBc5AQRjFXl",
        "outputId": "a637c520-df3e-474a-a952-f16d55976f40"
      },
      "outputs": [
        {
          "data": {
            "text/plain": [
              "toxic\n",
              "0    144277\n",
              "1     15294\n",
              "Name: count, dtype: int64"
            ]
          },
          "execution_count": 12,
          "metadata": {},
          "output_type": "execute_result"
        }
      ],
      "source": [
        "data['toxic'].value_counts()"
      ]
    },
    {
      "cell_type": "code",
      "execution_count": null,
      "metadata": {
        "execution": {
          "iopub.execute_input": "2023-09-26T13:16:32.776749Z",
          "iopub.status.busy": "2023-09-26T13:16:32.776324Z",
          "iopub.status.idle": "2023-09-26T13:16:32.787293Z",
          "shell.execute_reply": "2023-09-26T13:16:32.786300Z",
          "shell.execute_reply.started": "2023-09-26T13:16:32.776717Z"
        },
        "trusted": true,
        "id": "sMk_2Z3RjFXl",
        "outputId": "6d32b82f-4a88-4d93-be8e-3b18d1bdc2b1"
      },
      "outputs": [
        {
          "data": {
            "text/plain": [
              "severe_toxic\n",
              "0    157976\n",
              "1      1595\n",
              "Name: count, dtype: int64"
            ]
          },
          "execution_count": 13,
          "metadata": {},
          "output_type": "execute_result"
        }
      ],
      "source": [
        "data['severe_toxic'].value_counts()"
      ]
    },
    {
      "cell_type": "code",
      "execution_count": null,
      "metadata": {
        "execution": {
          "iopub.execute_input": "2023-09-26T13:16:42.591497Z",
          "iopub.status.busy": "2023-09-26T13:16:42.591045Z",
          "iopub.status.idle": "2023-09-26T13:16:42.602098Z",
          "shell.execute_reply": "2023-09-26T13:16:42.600787Z",
          "shell.execute_reply.started": "2023-09-26T13:16:42.591465Z"
        },
        "trusted": true,
        "id": "HfsdQmCXjFXl",
        "outputId": "7883ae37-43b4-49e7-c9dd-8df9b4bb3972"
      },
      "outputs": [
        {
          "data": {
            "text/plain": [
              "obscene\n",
              "0    151122\n",
              "1      8449\n",
              "Name: count, dtype: int64"
            ]
          },
          "execution_count": 14,
          "metadata": {},
          "output_type": "execute_result"
        }
      ],
      "source": [
        "data['obscene'].value_counts()"
      ]
    },
    {
      "cell_type": "code",
      "execution_count": null,
      "metadata": {
        "execution": {
          "iopub.execute_input": "2023-09-26T13:16:51.388739Z",
          "iopub.status.busy": "2023-09-26T13:16:51.388340Z",
          "iopub.status.idle": "2023-09-26T13:16:51.399080Z",
          "shell.execute_reply": "2023-09-26T13:16:51.397851Z",
          "shell.execute_reply.started": "2023-09-26T13:16:51.388707Z"
        },
        "trusted": true,
        "id": "RoW--vvajFXm",
        "outputId": "ca6fbd28-7f34-4fbe-aa89-bc03ae45be50"
      },
      "outputs": [
        {
          "data": {
            "text/plain": [
              "threat\n",
              "0    159093\n",
              "1       478\n",
              "Name: count, dtype: int64"
            ]
          },
          "execution_count": 15,
          "metadata": {},
          "output_type": "execute_result"
        }
      ],
      "source": [
        "data['threat'].value_counts()"
      ]
    },
    {
      "cell_type": "code",
      "execution_count": null,
      "metadata": {
        "execution": {
          "iopub.execute_input": "2023-09-26T13:17:02.156134Z",
          "iopub.status.busy": "2023-09-26T13:17:02.155731Z",
          "iopub.status.idle": "2023-09-26T13:17:02.167375Z",
          "shell.execute_reply": "2023-09-26T13:17:02.166158Z",
          "shell.execute_reply.started": "2023-09-26T13:17:02.156101Z"
        },
        "trusted": true,
        "id": "s0GHXCBJjFXm",
        "outputId": "0ab1a3ad-c20f-4b5e-c31c-627444991019"
      },
      "outputs": [
        {
          "data": {
            "text/plain": [
              "insult\n",
              "0    151694\n",
              "1      7877\n",
              "Name: count, dtype: int64"
            ]
          },
          "execution_count": 16,
          "metadata": {},
          "output_type": "execute_result"
        }
      ],
      "source": [
        "data['insult'].value_counts()"
      ]
    },
    {
      "cell_type": "code",
      "execution_count": null,
      "metadata": {
        "execution": {
          "iopub.execute_input": "2023-09-26T13:17:11.854324Z",
          "iopub.status.busy": "2023-09-26T13:17:11.853951Z",
          "iopub.status.idle": "2023-09-26T13:17:11.865436Z",
          "shell.execute_reply": "2023-09-26T13:17:11.864257Z",
          "shell.execute_reply.started": "2023-09-26T13:17:11.854296Z"
        },
        "trusted": true,
        "id": "OAMvTzK2jFXm",
        "outputId": "72bd641c-1e2f-4fd3-97ee-242db00308e5"
      },
      "outputs": [
        {
          "data": {
            "text/plain": [
              "identity_hate\n",
              "0    158166\n",
              "1      1405\n",
              "Name: count, dtype: int64"
            ]
          },
          "execution_count": 17,
          "metadata": {},
          "output_type": "execute_result"
        }
      ],
      "source": [
        "data['identity_hate'].value_counts()"
      ]
    },
    {
      "cell_type": "code",
      "execution_count": null,
      "metadata": {
        "execution": {
          "iopub.execute_input": "2023-09-26T13:17:23.521112Z",
          "iopub.status.busy": "2023-09-26T13:17:23.520720Z",
          "iopub.status.idle": "2023-09-26T13:17:23.526094Z",
          "shell.execute_reply": "2023-09-26T13:17:23.525020Z",
          "shell.execute_reply.started": "2023-09-26T13:17:23.521083Z"
        },
        "trusted": true,
        "id": "FSJABOjhjFXm"
      },
      "outputs": [],
      "source": [
        "df = pd.DataFrame(data)"
      ]
    },
    {
      "cell_type": "code",
      "execution_count": null,
      "metadata": {
        "execution": {
          "iopub.execute_input": "2023-09-26T13:17:34.389930Z",
          "iopub.status.busy": "2023-09-26T13:17:34.389512Z",
          "iopub.status.idle": "2023-09-26T13:17:34.402989Z",
          "shell.execute_reply": "2023-09-26T13:17:34.401943Z",
          "shell.execute_reply.started": "2023-09-26T13:17:34.389898Z"
        },
        "trusted": true,
        "id": "b7mFhE1ujFXm"
      },
      "outputs": [],
      "source": [
        "sentencetype_graph=df.iloc[:,2:].sum()"
      ]
    },
    {
      "cell_type": "code",
      "execution_count": null,
      "metadata": {
        "execution": {
          "iopub.execute_input": "2023-09-26T13:17:41.725005Z",
          "iopub.status.busy": "2023-09-26T13:17:41.724636Z",
          "iopub.status.idle": "2023-09-26T13:17:41.732823Z",
          "shell.execute_reply": "2023-09-26T13:17:41.731765Z",
          "shell.execute_reply.started": "2023-09-26T13:17:41.724979Z"
        },
        "trusted": true,
        "id": "0--I4WkNjFXm",
        "outputId": "154382c9-a98c-44f8-e72e-4b49c991674b"
      },
      "outputs": [
        {
          "data": {
            "text/plain": [
              "toxic            15294\n",
              "severe_toxic      1595\n",
              "obscene           8449\n",
              "threat             478\n",
              "insult            7877\n",
              "identity_hate     1405\n",
              "dtype: int64"
            ]
          },
          "execution_count": 20,
          "metadata": {},
          "output_type": "execute_result"
        }
      ],
      "source": [
        "sentencetype_graph"
      ]
    },
    {
      "cell_type": "code",
      "execution_count": null,
      "metadata": {
        "execution": {
          "iopub.execute_input": "2023-09-26T13:18:26.200877Z",
          "iopub.status.busy": "2023-09-26T13:18:26.200438Z",
          "iopub.status.idle": "2023-09-26T13:18:26.581728Z",
          "shell.execute_reply": "2023-09-26T13:18:26.580651Z",
          "shell.execute_reply.started": "2023-09-26T13:18:26.200846Z"
        },
        "trusted": true,
        "id": "Azf22wqjjFXn",
        "outputId": "6bb7761a-7367-42d2-b83e-e5aeba88e808"
      },
      "outputs": [
        {
          "data": {
            "image/png": "[encoded data removed]",
            "text/plain": [
              "<Figure size 800x500 with 1 Axes>"
            ]
          },
          "metadata": {},
          "output_type": "display_data"
        }
      ],
      "source": [
        "import seaborn as sns\n",
        "labels = [\"toxic\", \"severe_toxic\", \"obscene\", \"threat\", \"insult\", \"identity_hate\"]\n",
        "targets = data[labels].values\n",
        "import matplotlib.pyplot as plt\n",
        "val_counts = data[labels].sum()\n",
        "plt.figure(figsize=(8,5))\n",
        "ax = sns.barplot(x=val_counts.index, y=val_counts.values, alpha=0.8)\n",
        "plt.title(\"Labels per Classes\")\n",
        "plt.xlabel(\"Various Label Type\")\n",
        "plt.ylabel(\"Counts of the Labels\")\n",
        "rects = ax.patches\n",
        "labels = val_counts.values\n",
        "for rect, label in zip(rects, labels):\n",
        "    height = rect.get_height()\n",
        "    ax.text(rect.get_x() + rect.get_width()/2, height+5, label, ha=\"center\", va=\"bottom\")\n",
        "plt.show()"
      ]
    },
    {
      "cell_type": "code",
      "execution_count": null,
      "metadata": {
        "execution": {
          "iopub.execute_input": "2023-09-26T13:21:10.818930Z",
          "iopub.status.busy": "2023-09-26T13:21:10.818479Z",
          "iopub.status.idle": "2023-09-26T13:21:10.826443Z",
          "shell.execute_reply": "2023-09-26T13:21:10.825028Z",
          "shell.execute_reply.started": "2023-09-26T13:21:10.818898Z"
        },
        "trusted": true,
        "id": "qd-xNDsqjFXn",
        "outputId": "8f72fd02-9ef8-4e2e-9f26-ae6069e2c7f0"
      },
      "outputs": [
        {
          "data": {
            "text/plain": [
              "'\"\\nFair use rationale for Image:Wonju.jpg\\n\\nThanks for uploading Image:Wonju.jpg. I notice the image page specifies that the image is being used under fair use but there is no explanation or rationale as to why its use in Wikipedia articles constitutes fair use. In addition to the boilerplate fair use template, you must also write out on the image description page a specific explanation or rationale for why using this image in each article is consistent with fair use.\\n\\nPlease go to the image description page and edit it to include a fair use rationale.\\n\\nIf you have uploaded other fair use media, consider checking that you have specified the fair use rationale on those pages too. You can find a list of \\'image\\' pages you have edited by clicking on the \"\"my contributions\"\" link (it is located at the very top of any Wikipedia page when you are logged in), and then selecting \"\"Image\"\" from the dropdown box. Note that any fair use images uploaded after 4 May, 2006, and lacking such an explanation will be deleted one week after they have been uploaded, as described on criteria for speedy deletion. If you have any questions please ask them at the Media copyright questions page. Thank you. (talk • contribs • ) \\nUnspecified source for Image:Wonju.jpg\\n\\nThanks for uploading Image:Wonju.jpg. I noticed that the file\\'s description page currently doesn\\'t specify who created the content, so the copyright status is unclear. If you did not create this file yourself, then you will need to specify the owner of the copyright. If you obtained it from a website, then a link to the website from which it was taken, together with a restatement of that website\\'s terms of use of its content, is usually sufficient information. However, if the copyright holder is different from the website\\'s publisher, then their copyright should also be acknowledged.\\n\\nAs well as adding the source, please add a proper copyright licensing tag if the file doesn\\'t have one already. If you created/took the picture, audio, or video then the  tag can be used to release it under the GFDL. If you believe the media meets the criteria at Wikipedia:Fair use, use a tag such as  or one of the other tags listed at Wikipedia:Image copyright tags#Fair use. See Wikipedia:Image copyright tags for the full list of copyright tags that you can use.\\n\\nIf you have uploaded other files, consider checking that you have specified their source and tagged them, too. You can find a list of files you have uploaded by following [ this link]. Unsourced and untagged images may be deleted one week after they have been tagged, as described on criteria for speedy deletion. If the image is copyrighted under a non-free license (per Wikipedia:Fair use) then the image will be deleted 48 hours after . If you have any questions please ask them at the Media copyright questions page. Thank you. (talk • contribs • ) \"'"
            ]
          },
          "execution_count": 22,
          "metadata": {},
          "output_type": "execute_result"
        }
      ],
      "source": [
        "df['comment_text'][10]"
      ]
    },
    {
      "cell_type": "code",
      "execution_count": null,
      "metadata": {
        "execution": {
          "iopub.execute_input": "2023-09-26T13:21:19.739011Z",
          "iopub.status.busy": "2023-09-26T13:21:19.738601Z",
          "iopub.status.idle": "2023-09-26T13:21:19.743988Z",
          "shell.execute_reply": "2023-09-26T13:21:19.742849Z",
          "shell.execute_reply.started": "2023-09-26T13:21:19.738978Z"
        },
        "trusted": true,
        "id": "VmKid9wMjFXn"
      },
      "outputs": [],
      "source": [
        "import re\n",
        "import string"
      ]
    },
    {
      "cell_type": "code",
      "execution_count": null,
      "metadata": {
        "execution": {
          "iopub.execute_input": "2023-09-26T13:21:28.706133Z",
          "iopub.status.busy": "2023-09-26T13:21:28.705742Z",
          "iopub.status.idle": "2023-09-26T13:21:52.726462Z",
          "shell.execute_reply": "2023-09-26T13:21:52.725572Z",
          "shell.execute_reply.started": "2023-09-26T13:21:28.706101Z"
        },
        "trusted": true,
        "id": "5d-U_wOkjFXn"
      },
      "outputs": [],
      "source": [
        "# Removing special characters\n",
        "alphanumeric = lambda x: re.sub('\\w*\\d\\w*', ' ', x)\n",
        "punc_lower = lambda x: re.sub('[%s]' % re.escape(string.punctuation), ' ', x.lower())\n",
        "remove_n = lambda x: re.sub(\"\\n\", \" \", x)\n",
        "remove_non_ascii = lambda x: re.sub(r'[^\\x00-\\x7f]',r' ', x)\n",
        "df['comment_text'] = df['comment_text'].map(alphanumeric).map(punc_lower).map(remove_n).map(remove_non_ascii)\n"
      ]
    },
    {
      "cell_type": "code",
      "execution_count": null,
      "metadata": {
        "execution": {
          "iopub.execute_input": "2023-09-26T13:21:52.730875Z",
          "iopub.status.busy": "2023-09-26T13:21:52.730420Z",
          "iopub.status.idle": "2023-09-26T13:21:52.748177Z",
          "shell.execute_reply": "2023-09-26T13:21:52.746884Z",
          "shell.execute_reply.started": "2023-09-26T13:21:52.730836Z"
        },
        "trusted": true,
        "id": "X-qLl5BzjFXn"
      },
      "outputs": [],
      "source": [
        "Insulting_comment_df=df.loc[:,['id','comment_text','insult']]"
      ]
    },
    {
      "cell_type": "code",
      "execution_count": null,
      "metadata": {
        "execution": {
          "iopub.execute_input": "2023-09-26T13:21:52.750100Z",
          "iopub.status.busy": "2023-09-26T13:21:52.749681Z",
          "iopub.status.idle": "2023-09-26T13:21:52.768348Z",
          "shell.execute_reply": "2023-09-26T13:21:52.767468Z",
          "shell.execute_reply.started": "2023-09-26T13:21:52.750062Z"
        },
        "trusted": true,
        "id": "EsfIj9QOjFXn"
      },
      "outputs": [],
      "source": [
        "Threatening_comment_df=df.loc[:,['id','comment_text','threat']]"
      ]
    },
    {
      "cell_type": "code",
      "execution_count": null,
      "metadata": {
        "execution": {
          "iopub.execute_input": "2023-09-26T13:22:03.308141Z",
          "iopub.status.busy": "2023-09-26T13:22:03.307749Z",
          "iopub.status.idle": "2023-09-26T13:22:03.326552Z",
          "shell.execute_reply": "2023-09-26T13:22:03.325377Z",
          "shell.execute_reply.started": "2023-09-26T13:22:03.308111Z"
        },
        "trusted": true,
        "id": "bIoqBHNdjFXn"
      },
      "outputs": [],
      "source": [
        "IdentityHate_comment_df=df.loc[:,['id','comment_text','identity_hate']]"
      ]
    },
    {
      "cell_type": "code",
      "execution_count": null,
      "metadata": {
        "execution": {
          "iopub.execute_input": "2023-09-26T13:22:14.970270Z",
          "iopub.status.busy": "2023-09-26T13:22:14.969892Z",
          "iopub.status.idle": "2023-09-26T13:22:14.990027Z",
          "shell.execute_reply": "2023-09-26T13:22:14.989042Z",
          "shell.execute_reply.started": "2023-09-26T13:22:14.970238Z"
        },
        "trusted": true,
        "id": "krZcNNBzjFXo"
      },
      "outputs": [],
      "source": [
        "Obscene_comment_df=df.loc[:,['id','comment_text','obscene']]"
      ]
    },
    {
      "cell_type": "code",
      "execution_count": null,
      "metadata": {
        "execution": {
          "iopub.execute_input": "2023-09-26T13:22:25.759855Z",
          "iopub.status.busy": "2023-09-26T13:22:25.759314Z",
          "iopub.status.idle": "2023-09-26T13:22:25.778145Z",
          "shell.execute_reply": "2023-09-26T13:22:25.777190Z",
          "shell.execute_reply.started": "2023-09-26T13:22:25.759813Z"
        },
        "trusted": true,
        "id": "SpcGimDyjFXo"
      },
      "outputs": [],
      "source": [
        "Severetoxic_comment_df=df.loc[:,['id','comment_text','severe_toxic']]"
      ]
    },
    {
      "cell_type": "code",
      "execution_count": null,
      "metadata": {
        "execution": {
          "iopub.execute_input": "2023-09-26T13:22:36.670656Z",
          "iopub.status.busy": "2023-09-26T13:22:36.669665Z",
          "iopub.status.idle": "2023-09-26T13:22:36.688420Z",
          "shell.execute_reply": "2023-09-26T13:22:36.687262Z",
          "shell.execute_reply.started": "2023-09-26T13:22:36.670622Z"
        },
        "trusted": true,
        "id": "i_nLNJxljFXo"
      },
      "outputs": [],
      "source": [
        "Toxic_comment_df=df.loc[:,['id','comment_text','toxic']]"
      ]
    },
    {
      "cell_type": "code",
      "execution_count": null,
      "metadata": {
        "execution": {
          "iopub.execute_input": "2023-09-26T13:22:47.208633Z",
          "iopub.status.busy": "2023-09-26T13:22:47.208190Z",
          "iopub.status.idle": "2023-09-26T13:22:47.213643Z",
          "shell.execute_reply": "2023-09-26T13:22:47.212569Z",
          "shell.execute_reply.started": "2023-09-26T13:22:47.208581Z"
        },
        "trusted": true,
        "id": "wHNw4UWkjFXo"
      },
      "outputs": [],
      "source": [
        "import wordcloud\n",
        "from PIL import Image\n",
        "from wordcloud import WordCloud, STOPWORDS, ImageColorGenerator\n",
        "from nltk.corpus import stopwords"
      ]
    },
    {
      "cell_type": "code",
      "execution_count": null,
      "metadata": {
        "execution": {
          "iopub.execute_input": "2023-09-26T13:22:55.767933Z",
          "iopub.status.busy": "2023-09-26T13:22:55.767524Z",
          "iopub.status.idle": "2023-09-26T13:22:55.776260Z",
          "shell.execute_reply": "2023-09-26T13:22:55.775053Z",
          "shell.execute_reply.started": "2023-09-26T13:22:55.767904Z"
        },
        "trusted": true,
        "id": "DkR10K1yjFXo"
      },
      "outputs": [],
      "source": [
        "def wordcloud(df, label):\n",
        "\n",
        "    subset=df[df[label]==1]\n",
        "    text=subset.comment_text.values\n",
        "    wc= WordCloud(background_color=\"black\",max_words=2000)\n",
        "\n",
        "    wc.generate(\" \".join(text))\n",
        "\n",
        "    plt.figure(figsize=(20,20))\n",
        "    plt.subplot(221)\n",
        "    plt.axis(\"off\")\n",
        "    plt.title(\"Words frequented in {}\".format(label), fontsize=20)\n",
        "    plt.imshow(wc.recolor(colormap= 'gist_earth' , random_state=244), alpha=0.98)\n"
      ]
    },
    {
      "cell_type": "code",
      "execution_count": null,
      "metadata": {
        "execution": {
          "iopub.execute_input": "2023-09-26T13:24:33.590034Z",
          "iopub.status.busy": "2023-09-26T13:24:33.589310Z",
          "iopub.status.idle": "2023-09-26T13:24:33.606113Z",
          "shell.execute_reply": "2023-09-26T13:24:33.604496Z",
          "shell.execute_reply.started": "2023-09-26T13:24:33.589982Z"
        },
        "trusted": true,
        "id": "hIlnZDW_jFXp"
      },
      "outputs": [],
      "source": [
        "Toxic_comment_balanced_1 = Toxic_comment_df[Toxic_comment_df['toxic'] == 1].iloc[0:5000,:]\n"
      ]
    },
    {
      "cell_type": "code",
      "execution_count": null,
      "metadata": {
        "execution": {
          "iopub.execute_input": "2023-09-26T13:24:44.048291Z",
          "iopub.status.busy": "2023-09-26T13:24:44.047877Z",
          "iopub.status.idle": "2023-09-26T13:24:44.067971Z",
          "shell.execute_reply": "2023-09-26T13:24:44.067014Z",
          "shell.execute_reply.started": "2023-09-26T13:24:44.048259Z"
        },
        "trusted": true,
        "id": "-SGr2rMYjFXp"
      },
      "outputs": [],
      "source": [
        "Toxic_comment_balanced_0 = Toxic_comment_df[Toxic_comment_df['toxic'] == 0].iloc[0:5000,:]\n"
      ]
    },
    {
      "cell_type": "code",
      "execution_count": null,
      "metadata": {
        "execution": {
          "iopub.execute_input": "2023-09-26T13:25:05.904424Z",
          "iopub.status.busy": "2023-09-26T13:25:05.904047Z",
          "iopub.status.idle": "2023-09-26T13:25:05.911985Z",
          "shell.execute_reply": "2023-09-26T13:25:05.910729Z",
          "shell.execute_reply.started": "2023-09-26T13:25:05.904396Z"
        },
        "trusted": true,
        "id": "NFhVSMXNjFXp",
        "outputId": "d415bf7c-bfce-455b-a276-507648d8c4a7"
      },
      "outputs": [
        {
          "data": {
            "text/plain": [
              "(5000, 3)"
            ]
          },
          "execution_count": 41,
          "metadata": {},
          "output_type": "execute_result"
        }
      ],
      "source": [
        "Toxic_comment_balanced_1.shape"
      ]
    },
    {
      "cell_type": "code",
      "execution_count": null,
      "metadata": {
        "execution": {
          "iopub.execute_input": "2023-09-26T13:25:16.642138Z",
          "iopub.status.busy": "2023-09-26T13:25:16.641777Z",
          "iopub.status.idle": "2023-09-26T13:25:16.649494Z",
          "shell.execute_reply": "2023-09-26T13:25:16.648022Z",
          "shell.execute_reply.started": "2023-09-26T13:25:16.642111Z"
        },
        "trusted": true,
        "id": "4ztSArUejFXp",
        "outputId": "1435bff5-65c7-427c-811b-b8baf295e6cf"
      },
      "outputs": [
        {
          "data": {
            "text/plain": [
              "(5000, 3)"
            ]
          },
          "execution_count": 42,
          "metadata": {},
          "output_type": "execute_result"
        }
      ],
      "source": [
        "Toxic_comment_balanced_0.shape"
      ]
    },
    {
      "cell_type": "code",
      "execution_count": null,
      "metadata": {
        "execution": {
          "iopub.execute_input": "2023-09-26T13:25:28.998989Z",
          "iopub.status.busy": "2023-09-26T13:25:28.998514Z",
          "iopub.status.idle": "2023-09-26T13:25:29.008120Z",
          "shell.execute_reply": "2023-09-26T13:25:29.006926Z",
          "shell.execute_reply.started": "2023-09-26T13:25:28.998955Z"
        },
        "trusted": true,
        "id": "z256YlkAjFXy",
        "outputId": "08638af4-5dad-4e21-e0d7-a74f3309af96"
      },
      "outputs": [
        {
          "data": {
            "text/plain": [
              "toxic\n",
              "1    5000\n",
              "Name: count, dtype: int64"
            ]
          },
          "execution_count": 43,
          "metadata": {},
          "output_type": "execute_result"
        }
      ],
      "source": [
        "Toxic_comment_balanced_1['toxic'].value_counts()"
      ]
    },
    {
      "cell_type": "code",
      "execution_count": null,
      "metadata": {
        "execution": {
          "iopub.execute_input": "2023-09-26T13:25:39.423906Z",
          "iopub.status.busy": "2023-09-26T13:25:39.423460Z",
          "iopub.status.idle": "2023-09-26T13:25:39.433003Z",
          "shell.execute_reply": "2023-09-26T13:25:39.431933Z",
          "shell.execute_reply.started": "2023-09-26T13:25:39.423872Z"
        },
        "trusted": true,
        "id": "GsBUT8uhjFXy",
        "outputId": "3a6d409b-7def-4928-c073-9827b086e81e"
      },
      "outputs": [
        {
          "data": {
            "text/plain": [
              "toxic\n",
              "0    5000\n",
              "Name: count, dtype: int64"
            ]
          },
          "execution_count": 44,
          "metadata": {},
          "output_type": "execute_result"
        }
      ],
      "source": [
        "Toxic_comment_balanced_0['toxic'].value_counts()"
      ]
    },
    {
      "cell_type": "code",
      "execution_count": null,
      "metadata": {
        "execution": {
          "iopub.execute_input": "2023-09-26T13:25:58.825999Z",
          "iopub.status.busy": "2023-09-26T13:25:58.825571Z",
          "iopub.status.idle": "2023-09-26T13:25:58.832717Z",
          "shell.execute_reply": "2023-09-26T13:25:58.831875Z",
          "shell.execute_reply.started": "2023-09-26T13:25:58.825956Z"
        },
        "trusted": true,
        "id": "a-8zKw8ejFXy"
      },
      "outputs": [],
      "source": [
        "Toxic_comment_balanced=pd.concat([Toxic_comment_balanced_1,Toxic_comment_balanced_0])\n"
      ]
    },
    {
      "cell_type": "code",
      "execution_count": null,
      "metadata": {
        "execution": {
          "iopub.execute_input": "2023-09-26T13:26:08.282258Z",
          "iopub.status.busy": "2023-09-26T13:26:08.281839Z",
          "iopub.status.idle": "2023-09-26T13:26:08.291369Z",
          "shell.execute_reply": "2023-09-26T13:26:08.290296Z",
          "shell.execute_reply.started": "2023-09-26T13:26:08.282226Z"
        },
        "trusted": true,
        "id": "-5EP3IASjFXy",
        "outputId": "f6f7a5f2-372a-41fd-bb33-c142b1cfd06d"
      },
      "outputs": [
        {
          "data": {
            "text/plain": [
              "toxic\n",
              "1    5000\n",
              "0    5000\n",
              "Name: count, dtype: int64"
            ]
          },
          "execution_count": 46,
          "metadata": {},
          "output_type": "execute_result"
        }
      ],
      "source": [
        "Toxic_comment_balanced['toxic'].value_counts()"
      ]
    },
    {
      "cell_type": "code",
      "execution_count": null,
      "metadata": {
        "execution": {
          "iopub.execute_input": "2023-09-26T13:26:19.367138Z",
          "iopub.status.busy": "2023-09-26T13:26:19.366756Z",
          "iopub.status.idle": "2023-09-26T13:26:19.377540Z",
          "shell.execute_reply": "2023-09-26T13:26:19.376422Z",
          "shell.execute_reply.started": "2023-09-26T13:26:19.367109Z"
        },
        "trusted": true,
        "id": "HMfaMStAjFXy",
        "outputId": "edb35cdf-95fb-492e-e8fe-47ffbcc4f58a"
      },
      "outputs": [
        {
          "data": {
            "text/plain": [
              "severe_toxic\n",
              "0    157976\n",
              "1      1595\n",
              "Name: count, dtype: int64"
            ]
          },
          "execution_count": 47,
          "metadata": {},
          "output_type": "execute_result"
        }
      ],
      "source": [
        "Severetoxic_comment_df['severe_toxic'].value_counts()"
      ]
    },
    {
      "cell_type": "code",
      "execution_count": null,
      "metadata": {
        "execution": {
          "iopub.execute_input": "2023-09-26T13:26:30.526969Z",
          "iopub.status.busy": "2023-09-26T13:26:30.525419Z",
          "iopub.status.idle": "2023-09-26T13:26:30.539977Z",
          "shell.execute_reply": "2023-09-26T13:26:30.536507Z",
          "shell.execute_reply.started": "2023-09-26T13:26:30.526921Z"
        },
        "trusted": true,
        "id": "zBsNQv9VjFXz"
      },
      "outputs": [],
      "source": [
        "Severetoxic_comment_df_1 = Severetoxic_comment_df[Severetoxic_comment_df['severe_toxic'] == 1].iloc[0:1595,:]\n"
      ]
    },
    {
      "cell_type": "code",
      "execution_count": null,
      "metadata": {
        "execution": {
          "iopub.execute_input": "2023-09-26T13:26:41.594533Z",
          "iopub.status.busy": "2023-09-26T13:26:41.593879Z",
          "iopub.status.idle": "2023-09-26T13:26:41.613917Z",
          "shell.execute_reply": "2023-09-26T13:26:41.612792Z",
          "shell.execute_reply.started": "2023-09-26T13:26:41.594495Z"
        },
        "trusted": true,
        "id": "4bViyxb-jFXz"
      },
      "outputs": [],
      "source": [
        "Severetoxic_comment_df_0 = Severetoxic_comment_df[Severetoxic_comment_df['severe_toxic'] == 0].iloc[0:1595,:]\n"
      ]
    },
    {
      "cell_type": "code",
      "execution_count": null,
      "metadata": {
        "execution": {
          "iopub.execute_input": "2023-09-26T13:26:51.283540Z",
          "iopub.status.busy": "2023-09-26T13:26:51.282437Z",
          "iopub.status.idle": "2023-09-26T13:26:51.289082Z",
          "shell.execute_reply": "2023-09-26T13:26:51.288050Z",
          "shell.execute_reply.started": "2023-09-26T13:26:51.283499Z"
        },
        "trusted": true,
        "id": "QcNnT-3ijFXz"
      },
      "outputs": [],
      "source": [
        "Severe_toxic_comment_balanced=pd.concat([Severetoxic_comment_df_1,Severetoxic_comment_df_0])\n"
      ]
    },
    {
      "cell_type": "code",
      "execution_count": null,
      "metadata": {
        "execution": {
          "iopub.execute_input": "2023-09-26T13:27:00.383190Z",
          "iopub.status.busy": "2023-09-26T13:27:00.382805Z",
          "iopub.status.idle": "2023-09-26T13:27:00.392198Z",
          "shell.execute_reply": "2023-09-26T13:27:00.391079Z",
          "shell.execute_reply.started": "2023-09-26T13:27:00.383162Z"
        },
        "trusted": true,
        "id": "tkg-n53AjFXz",
        "outputId": "13c27f4d-5633-4068-bbae-77854292ce39"
      },
      "outputs": [
        {
          "data": {
            "text/plain": [
              "severe_toxic\n",
              "1    1595\n",
              "0    1595\n",
              "Name: count, dtype: int64"
            ]
          },
          "execution_count": 51,
          "metadata": {},
          "output_type": "execute_result"
        }
      ],
      "source": [
        "Severe_toxic_comment_balanced['severe_toxic'].value_counts()"
      ]
    },
    {
      "cell_type": "code",
      "execution_count": null,
      "metadata": {
        "execution": {
          "iopub.execute_input": "2023-09-26T13:27:11.748618Z",
          "iopub.status.busy": "2023-09-26T13:27:11.747464Z",
          "iopub.status.idle": "2023-09-26T13:27:11.759717Z",
          "shell.execute_reply": "2023-09-26T13:27:11.758355Z",
          "shell.execute_reply.started": "2023-09-26T13:27:11.748565Z"
        },
        "trusted": true,
        "id": "WKgBsZ8DjFXz",
        "outputId": "43202da6-27b2-4569-c350-a6e036364f24"
      },
      "outputs": [
        {
          "data": {
            "text/plain": [
              "obscene\n",
              "0    151122\n",
              "1      8449\n",
              "Name: count, dtype: int64"
            ]
          },
          "execution_count": 52,
          "metadata": {},
          "output_type": "execute_result"
        }
      ],
      "source": [
        "Obscene_comment_df['obscene'].value_counts()"
      ]
    },
    {
      "cell_type": "code",
      "execution_count": null,
      "metadata": {
        "execution": {
          "iopub.execute_input": "2023-09-26T13:27:24.012237Z",
          "iopub.status.busy": "2023-09-26T13:27:24.011095Z",
          "iopub.status.idle": "2023-09-26T13:27:24.021262Z",
          "shell.execute_reply": "2023-09-26T13:27:24.020141Z",
          "shell.execute_reply.started": "2023-09-26T13:27:24.012193Z"
        },
        "trusted": true,
        "id": "G5OADI6-jFXz"
      },
      "outputs": [],
      "source": [
        "Obscene_comment_df_1 = Obscene_comment_df[Obscene_comment_df['obscene'] == 1].iloc[0:5000,:]\n"
      ]
    },
    {
      "cell_type": "code",
      "execution_count": null,
      "metadata": {
        "execution": {
          "iopub.execute_input": "2023-09-26T13:27:34.808081Z",
          "iopub.status.busy": "2023-09-26T13:27:34.807029Z",
          "iopub.status.idle": "2023-09-26T13:27:34.827511Z",
          "shell.execute_reply": "2023-09-26T13:27:34.826348Z",
          "shell.execute_reply.started": "2023-09-26T13:27:34.808046Z"
        },
        "trusted": true,
        "id": "QQ42uZIvjFXz"
      },
      "outputs": [],
      "source": [
        "Obscene_comment_df_0 = Obscene_comment_df[Obscene_comment_df['obscene'] == 0].iloc[0:5000,:]\n"
      ]
    },
    {
      "cell_type": "code",
      "execution_count": null,
      "metadata": {
        "execution": {
          "iopub.execute_input": "2023-09-26T13:27:43.433630Z",
          "iopub.status.busy": "2023-09-26T13:27:43.433139Z",
          "iopub.status.idle": "2023-09-26T13:27:43.440307Z",
          "shell.execute_reply": "2023-09-26T13:27:43.439207Z",
          "shell.execute_reply.started": "2023-09-26T13:27:43.433584Z"
        },
        "trusted": true,
        "id": "TZpjkB94jFXz"
      },
      "outputs": [],
      "source": [
        "Obscene_comment_balanced = pd.concat([Obscene_comment_df_1,Obscene_comment_df_0])\n"
      ]
    },
    {
      "cell_type": "code",
      "execution_count": null,
      "metadata": {
        "execution": {
          "iopub.execute_input": "2023-09-26T13:27:52.435616Z",
          "iopub.status.busy": "2023-09-26T13:27:52.435213Z",
          "iopub.status.idle": "2023-09-26T13:27:52.444811Z",
          "shell.execute_reply": "2023-09-26T13:27:52.443592Z",
          "shell.execute_reply.started": "2023-09-26T13:27:52.435571Z"
        },
        "trusted": true,
        "id": "m9HXukpKjFX0",
        "outputId": "b4b03b01-8464-495b-99bd-9cfe5c2792ca"
      },
      "outputs": [
        {
          "data": {
            "text/plain": [
              "obscene\n",
              "1    5000\n",
              "0    5000\n",
              "Name: count, dtype: int64"
            ]
          },
          "execution_count": 56,
          "metadata": {},
          "output_type": "execute_result"
        }
      ],
      "source": [
        "Obscene_comment_balanced['obscene'].value_counts()"
      ]
    },
    {
      "cell_type": "code",
      "execution_count": null,
      "metadata": {
        "execution": {
          "iopub.execute_input": "2023-09-26T13:28:00.270623Z",
          "iopub.status.busy": "2023-09-26T13:28:00.270038Z",
          "iopub.status.idle": "2023-09-26T13:28:00.280854Z",
          "shell.execute_reply": "2023-09-26T13:28:00.279728Z",
          "shell.execute_reply.started": "2023-09-26T13:28:00.270574Z"
        },
        "trusted": true,
        "id": "j6lgvC1TjFX0",
        "outputId": "ee61e830-6177-4001-d50b-fc3676ae93d6"
      },
      "outputs": [
        {
          "data": {
            "text/plain": [
              "threat\n",
              "0    159093\n",
              "1       478\n",
              "Name: count, dtype: int64"
            ]
          },
          "execution_count": 57,
          "metadata": {},
          "output_type": "execute_result"
        }
      ],
      "source": [
        "Threatening_comment_df['threat'].value_counts()"
      ]
    },
    {
      "cell_type": "code",
      "execution_count": null,
      "metadata": {
        "execution": {
          "iopub.execute_input": "2023-09-26T13:28:10.681200Z",
          "iopub.status.busy": "2023-09-26T13:28:10.680821Z",
          "iopub.status.idle": "2023-09-26T13:28:10.688705Z",
          "shell.execute_reply": "2023-09-26T13:28:10.687469Z",
          "shell.execute_reply.started": "2023-09-26T13:28:10.681171Z"
        },
        "trusted": true,
        "id": "IGGYy5AtjFX0"
      },
      "outputs": [],
      "source": [
        "Threatening_comment_df_1 = Threatening_comment_df[Threatening_comment_df['threat'] == 1].iloc[0:478,:]\n"
      ]
    },
    {
      "cell_type": "code",
      "execution_count": null,
      "metadata": {
        "execution": {
          "iopub.execute_input": "2023-09-26T13:28:19.157128Z",
          "iopub.status.busy": "2023-09-26T13:28:19.156712Z",
          "iopub.status.idle": "2023-09-26T13:28:19.176561Z",
          "shell.execute_reply": "2023-09-26T13:28:19.175672Z",
          "shell.execute_reply.started": "2023-09-26T13:28:19.157095Z"
        },
        "trusted": true,
        "id": "_NvfwOsJjFX0"
      },
      "outputs": [],
      "source": [
        "Threatening_comment_df_0 = Threatening_comment_df[Threatening_comment_df['threat'] == 0].iloc[0:478,:]\n"
      ]
    },
    {
      "cell_type": "code",
      "execution_count": null,
      "metadata": {
        "execution": {
          "iopub.execute_input": "2023-09-26T13:28:29.667033Z",
          "iopub.status.busy": "2023-09-26T13:28:29.666652Z",
          "iopub.status.idle": "2023-09-26T13:28:29.673767Z",
          "shell.execute_reply": "2023-09-26T13:28:29.672407Z",
          "shell.execute_reply.started": "2023-09-26T13:28:29.666996Z"
        },
        "trusted": true,
        "id": "IyoCjxHrjFX0"
      },
      "outputs": [],
      "source": [
        "Threatening_comment_balanced = pd.concat([Threatening_comment_df_1,Threatening_comment_df_0])\n"
      ]
    },
    {
      "cell_type": "code",
      "execution_count": null,
      "metadata": {
        "execution": {
          "iopub.execute_input": "2023-09-26T13:28:40.007490Z",
          "iopub.status.busy": "2023-09-26T13:28:40.007050Z",
          "iopub.status.idle": "2023-09-26T13:28:40.016683Z",
          "shell.execute_reply": "2023-09-26T13:28:40.015812Z",
          "shell.execute_reply.started": "2023-09-26T13:28:40.007458Z"
        },
        "trusted": true,
        "id": "dsAN4fE8jFX0",
        "outputId": "63a26d91-8ed3-43ce-9b31-119c0f41e025"
      },
      "outputs": [
        {
          "data": {
            "text/plain": [
              "threat\n",
              "1    478\n",
              "0    478\n",
              "Name: count, dtype: int64"
            ]
          },
          "execution_count": 61,
          "metadata": {},
          "output_type": "execute_result"
        }
      ],
      "source": [
        "Threatening_comment_balanced['threat'].value_counts()"
      ]
    },
    {
      "cell_type": "code",
      "execution_count": null,
      "metadata": {
        "execution": {
          "iopub.execute_input": "2023-09-26T13:28:49.497448Z",
          "iopub.status.busy": "2023-09-26T13:28:49.497064Z",
          "iopub.status.idle": "2023-09-26T13:28:49.508028Z",
          "shell.execute_reply": "2023-09-26T13:28:49.506826Z",
          "shell.execute_reply.started": "2023-09-26T13:28:49.497420Z"
        },
        "trusted": true,
        "id": "DkVFHLM0jFX0",
        "outputId": "839a5a70-f8e8-4caf-e317-6a336948dd61"
      },
      "outputs": [
        {
          "data": {
            "text/plain": [
              "insult\n",
              "0    151694\n",
              "1      7877\n",
              "Name: count, dtype: int64"
            ]
          },
          "execution_count": 62,
          "metadata": {},
          "output_type": "execute_result"
        }
      ],
      "source": [
        "Insulting_comment_df['insult'].value_counts()"
      ]
    },
    {
      "cell_type": "code",
      "execution_count": null,
      "metadata": {
        "execution": {
          "iopub.execute_input": "2023-09-26T13:29:00.462710Z",
          "iopub.status.busy": "2023-09-26T13:29:00.462295Z",
          "iopub.status.idle": "2023-09-26T13:29:00.472452Z",
          "shell.execute_reply": "2023-09-26T13:29:00.471124Z",
          "shell.execute_reply.started": "2023-09-26T13:29:00.462679Z"
        },
        "trusted": true,
        "id": "3YbzP5ZnjFX1"
      },
      "outputs": [],
      "source": [
        "Insulting_comment_df_1 = Insulting_comment_df[Insulting_comment_df['insult'] == 1].iloc[0:5000,:]\n"
      ]
    },
    {
      "cell_type": "code",
      "execution_count": null,
      "metadata": {
        "execution": {
          "iopub.execute_input": "2023-09-26T13:29:08.654110Z",
          "iopub.status.busy": "2023-09-26T13:29:08.653420Z",
          "iopub.status.idle": "2023-09-26T13:29:08.672168Z",
          "shell.execute_reply": "2023-09-26T13:29:08.670993Z",
          "shell.execute_reply.started": "2023-09-26T13:29:08.654071Z"
        },
        "trusted": true,
        "id": "XGdgGyxYjFX1"
      },
      "outputs": [],
      "source": [
        "Insulting_comment_df_0 = Insulting_comment_df[Insulting_comment_df['insult'] == 0].iloc[0:5000,:]\n"
      ]
    },
    {
      "cell_type": "code",
      "execution_count": null,
      "metadata": {
        "execution": {
          "iopub.execute_input": "2023-09-26T13:29:16.805612Z",
          "iopub.status.busy": "2023-09-26T13:29:16.805207Z",
          "iopub.status.idle": "2023-09-26T13:29:16.812280Z",
          "shell.execute_reply": "2023-09-26T13:29:16.810956Z",
          "shell.execute_reply.started": "2023-09-26T13:29:16.805569Z"
        },
        "trusted": true,
        "id": "IW8vyd66jFX1"
      },
      "outputs": [],
      "source": [
        "Insulting_comment_balanced = pd.concat([Insulting_comment_df_1,Insulting_comment_df_0])\n"
      ]
    },
    {
      "cell_type": "code",
      "execution_count": null,
      "metadata": {
        "execution": {
          "iopub.execute_input": "2023-09-26T13:29:27.599117Z",
          "iopub.status.busy": "2023-09-26T13:29:27.598720Z",
          "iopub.status.idle": "2023-09-26T13:29:27.610715Z",
          "shell.execute_reply": "2023-09-26T13:29:27.609621Z",
          "shell.execute_reply.started": "2023-09-26T13:29:27.599088Z"
        },
        "trusted": true,
        "id": "cO3TO3lAjFX1",
        "outputId": "fdfe03d1-86be-4208-d2a4-1c59d15e1507"
      },
      "outputs": [
        {
          "data": {
            "text/plain": [
              "insult\n",
              "1    5000\n",
              "0    5000\n",
              "Name: count, dtype: int64"
            ]
          },
          "execution_count": 66,
          "metadata": {},
          "output_type": "execute_result"
        }
      ],
      "source": [
        "Insulting_comment_balanced['insult'].value_counts()"
      ]
    },
    {
      "cell_type": "code",
      "execution_count": null,
      "metadata": {
        "execution": {
          "iopub.execute_input": "2023-09-26T13:29:36.186961Z",
          "iopub.status.busy": "2023-09-26T13:29:36.186501Z",
          "iopub.status.idle": "2023-09-26T13:29:36.197857Z",
          "shell.execute_reply": "2023-09-26T13:29:36.196565Z",
          "shell.execute_reply.started": "2023-09-26T13:29:36.186923Z"
        },
        "trusted": true,
        "id": "YCsGjZ-8jFX1",
        "outputId": "2fe1ee8a-c667-403e-ea94-4e217488a70a"
      },
      "outputs": [
        {
          "data": {
            "text/plain": [
              "identity_hate\n",
              "0    158166\n",
              "1      1405\n",
              "Name: count, dtype: int64"
            ]
          },
          "execution_count": 67,
          "metadata": {},
          "output_type": "execute_result"
        }
      ],
      "source": [
        "IdentityHate_comment_df['identity_hate'].value_counts()"
      ]
    },
    {
      "cell_type": "code",
      "execution_count": null,
      "metadata": {
        "execution": {
          "iopub.execute_input": "2023-09-26T13:29:47.213543Z",
          "iopub.status.busy": "2023-09-26T13:29:47.213143Z",
          "iopub.status.idle": "2023-09-26T13:29:47.221651Z",
          "shell.execute_reply": "2023-09-26T13:29:47.220431Z",
          "shell.execute_reply.started": "2023-09-26T13:29:47.213514Z"
        },
        "trusted": true,
        "id": "ubXY83zfjFX1"
      },
      "outputs": [],
      "source": [
        "IdentityHate_comment_df_1 = IdentityHate_comment_df[IdentityHate_comment_df['identity_hate'] == 1].iloc[0:1405,:]\n"
      ]
    },
    {
      "cell_type": "code",
      "execution_count": null,
      "metadata": {
        "execution": {
          "iopub.execute_input": "2023-09-26T13:29:55.176818Z",
          "iopub.status.busy": "2023-09-26T13:29:55.176387Z",
          "iopub.status.idle": "2023-09-26T13:29:55.196982Z",
          "shell.execute_reply": "2023-09-26T13:29:55.195462Z",
          "shell.execute_reply.started": "2023-09-26T13:29:55.176784Z"
        },
        "trusted": true,
        "id": "s-V1FnmyjFX1"
      },
      "outputs": [],
      "source": [
        "IdentityHate_comment_df_0 = IdentityHate_comment_df[IdentityHate_comment_df['identity_hate'] == 0].iloc[0:1405,:]\n"
      ]
    },
    {
      "cell_type": "code",
      "execution_count": null,
      "metadata": {
        "execution": {
          "iopub.execute_input": "2023-09-26T13:30:04.353296Z",
          "iopub.status.busy": "2023-09-26T13:30:04.352879Z",
          "iopub.status.idle": "2023-09-26T13:30:04.360184Z",
          "shell.execute_reply": "2023-09-26T13:30:04.358981Z",
          "shell.execute_reply.started": "2023-09-26T13:30:04.353265Z"
        },
        "trusted": true,
        "id": "u4e3P8Q5jFX1"
      },
      "outputs": [],
      "source": [
        "IdentityHate_comment_balanced = pd.concat([IdentityHate_comment_df_1,IdentityHate_comment_df_0])\n"
      ]
    },
    {
      "cell_type": "code",
      "execution_count": null,
      "metadata": {
        "execution": {
          "iopub.execute_input": "2023-09-26T13:30:15.036528Z",
          "iopub.status.busy": "2023-09-26T13:30:15.036149Z",
          "iopub.status.idle": "2023-09-26T13:30:15.045811Z",
          "shell.execute_reply": "2023-09-26T13:30:15.044458Z",
          "shell.execute_reply.started": "2023-09-26T13:30:15.036498Z"
        },
        "trusted": true,
        "id": "B9-CqOMejFX2",
        "outputId": "59126d94-a0cd-46d7-c395-da5337f68528"
      },
      "outputs": [
        {
          "data": {
            "text/plain": [
              "identity_hate\n",
              "1    1405\n",
              "0    1405\n",
              "Name: count, dtype: int64"
            ]
          },
          "execution_count": 71,
          "metadata": {},
          "output_type": "execute_result"
        }
      ],
      "source": [
        "IdentityHate_comment_balanced['identity_hate'].value_counts()\n"
      ]
    },
    {
      "cell_type": "code",
      "execution_count": null,
      "metadata": {
        "execution": {
          "iopub.execute_input": "2023-09-26T13:30:25.827428Z",
          "iopub.status.busy": "2023-09-26T13:30:25.826998Z",
          "iopub.status.idle": "2023-09-26T13:30:26.173904Z",
          "shell.execute_reply": "2023-09-26T13:30:26.172730Z",
          "shell.execute_reply.started": "2023-09-26T13:30:25.827396Z"
        },
        "trusted": true,
        "id": "4izwKSwpjFX2"
      },
      "outputs": [],
      "source": [
        "from sklearn import preprocessing\n",
        "from sklearn.feature_selection import SelectFromModel\n",
        "\n",
        "from sklearn.model_selection import train_test_split, KFold, cross_val_score\n",
        "from sklearn.metrics import f1_score, precision_score, recall_score, precision_recall_curve, fbeta_score, confusion_matrix\n",
        "from sklearn.metrics import roc_auc_score, roc_curve\n",
        "\n",
        "from sklearn.linear_model import LogisticRegression\n",
        "from sklearn.neighbors import KNeighborsClassifier\n",
        "from sklearn.naive_bayes import MultinomialNB, BernoulliNB\n",
        "from sklearn.svm import LinearSVC\n",
        "from sklearn.ensemble import RandomForestClassifier\n",
        "\n",
        "from sklearn.feature_extraction.text import CountVectorizer, TfidfVectorizer\n",
        "from nltk import ngrams,bigrams,trigrams"
      ]
    },
    {
      "cell_type": "code",
      "execution_count": null,
      "metadata": {
        "execution": {
          "iopub.execute_input": "2023-09-26T13:30:36.037424Z",
          "iopub.status.busy": "2023-09-26T13:30:36.036997Z",
          "iopub.status.idle": "2023-09-26T13:30:36.051020Z",
          "shell.execute_reply": "2023-09-26T13:30:36.049721Z",
          "shell.execute_reply.started": "2023-09-26T13:30:36.037390Z"
        },
        "trusted": true,
        "id": "ynpxItQSjFX2"
      },
      "outputs": [],
      "source": [
        "def cv_tf_train_test(dataframe,label,vectorizer,ngram):\n",
        "\n",
        "    # Split the data into X and y data sets\n",
        "    X = dataframe.comment_text\n",
        "    y = dataframe[label]\n",
        "\n",
        "    # Split our data into training and test data\n",
        "    X_train, X_test, y_train, y_test = train_test_split(X, y, test_size=0.3, random_state=50)\n",
        "\n",
        "    # Using vectorizer and removing stopwords\n",
        "    cv1 = vectorizer(ngram_range=(ngram), stop_words='english')\n",
        "\n",
        "    # Transforming x-train and x-test\n",
        "    X_train_cv1 = cv1.fit_transform(X_train)\n",
        "    X_test_cv1  = cv1.transform(X_test)\n",
        "\n",
        "    ## Machine learning models\n",
        "\n",
        "    ## Logistic regression\n",
        "    lr = LogisticRegression()\n",
        "    lr.fit(X_train_cv1, y_train)\n",
        "\n",
        "    ## k-nearest neighbours\n",
        "    knn = KNeighborsClassifier(n_neighbors=5)\n",
        "    knn.fit(X_train_cv1, y_train)\n",
        "\n",
        "    ## Naive Bayes\n",
        "    bnb = BernoulliNB()\n",
        "    bnb.fit(X_train_cv1, y_train)\n",
        "\n",
        "    ## Multinomial naive bayes\n",
        "    mnb = MultinomialNB()\n",
        "    mnb.fit(X_train_cv1, y_train)\n",
        "\n",
        "    ## Support vector machine\n",
        "    svm_model = LinearSVC()\n",
        "    svm_model.fit(X_train_cv1, y_train)\n",
        "\n",
        "    ## Random Forest\n",
        "    randomforest = RandomForestClassifier(n_estimators=100, random_state=50)\n",
        "    randomforest.fit(X_train_cv1, y_train)\n",
        "\n",
        "    f1_score_data = {'F1 Score':[f1_score(lr.predict(X_test_cv1), y_test), f1_score(knn.predict(X_test_cv1), y_test),\n",
        "                                f1_score(bnb.predict(X_test_cv1), y_test), f1_score(mnb.predict(X_test_cv1), y_test),\n",
        "                                f1_score(svm_model.predict(X_test_cv1), y_test), f1_score(randomforest.predict(X_test_cv1), y_test)]}\n",
        "    ## Saving f1 score results into a dataframe\n",
        "    df_f1 = pd.DataFrame(f1_score_data, index=['Log Regression','KNN', 'BernoulliNB', 'MultinomialNB', 'SVM', 'Random Forest'])\n",
        "\n",
        "    return df_f1"
      ]
    },
    {
      "cell_type": "code",
      "execution_count": null,
      "metadata": {
        "execution": {
          "iopub.execute_input": "2023-09-26T13:30:51.970085Z",
          "iopub.status.busy": "2023-09-26T13:30:51.969688Z",
          "iopub.status.idle": "2023-09-26T13:30:55.075842Z",
          "shell.execute_reply": "2023-09-26T13:30:55.074653Z",
          "shell.execute_reply.started": "2023-09-26T13:30:51.970057Z"
        },
        "trusted": true,
        "id": "BWpwUVJ1jFX2",
        "outputId": "041262f1-d855-48fb-8d40-198ea8abb9f6"
      },
      "outputs": [
        {
          "data": {
            "text/html": [
              "<div>\n",
              "<style scoped>\n",
              "    .dataframe tbody tr th:only-of-type {\n",
              "        vertical-align: middle;\n",
              "    }\n",
              "\n",
              "    .dataframe tbody tr th {\n",
              "        vertical-align: top;\n",
              "    }\n",
              "\n",
              "    .dataframe thead th {\n",
              "        text-align: right;\n",
              "    }\n",
              "</style>\n",
              "<table border=\"1\" class=\"dataframe\">\n",
              "  <thead>\n",
              "    <tr style=\"text-align: right;\">\n",
              "      <th></th>\n",
              "      <th>F1 Score(severe_toxic)</th>\n",
              "    </tr>\n",
              "  </thead>\n",
              "  <tbody>\n",
              "    <tr>\n",
              "      <th>Log Regression</th>\n",
              "      <td>0.940282</td>\n",
              "    </tr>\n",
              "    <tr>\n",
              "      <th>KNN</th>\n",
              "      <td>0.861407</td>\n",
              "    </tr>\n",
              "    <tr>\n",
              "      <th>BernoulliNB</th>\n",
              "      <td>0.790738</td>\n",
              "    </tr>\n",
              "    <tr>\n",
              "      <th>MultinomialNB</th>\n",
              "      <td>0.932377</td>\n",
              "    </tr>\n",
              "    <tr>\n",
              "      <th>SVM</th>\n",
              "      <td>0.937901</td>\n",
              "    </tr>\n",
              "    <tr>\n",
              "      <th>Random Forest</th>\n",
              "      <td>0.941176</td>\n",
              "    </tr>\n",
              "  </tbody>\n",
              "</table>\n",
              "</div>"
            ],
            "text/plain": [
              "                F1 Score(severe_toxic)\n",
              "Log Regression                0.940282\n",
              "KNN                           0.861407\n",
              "BernoulliNB                   0.790738\n",
              "MultinomialNB                 0.932377\n",
              "SVM                           0.937901\n",
              "Random Forest                 0.941176"
            ]
          },
          "execution_count": 74,
          "metadata": {},
          "output_type": "execute_result"
        }
      ],
      "source": [
        "severe_toxic_comment_cv = cv_tf_train_test(Severe_toxic_comment_balanced, 'severe_toxic', TfidfVectorizer, (1,1))\n",
        "severe_toxic_comment_cv.rename(columns={'F1 Score': 'F1 Score(severe_toxic)'}, inplace=True)\n",
        "severe_toxic_comment_cv"
      ]
    },
    {
      "cell_type": "code",
      "execution_count": null,
      "metadata": {
        "execution": {
          "iopub.execute_input": "2023-09-26T13:31:03.502206Z",
          "iopub.status.busy": "2023-09-26T13:31:03.501781Z",
          "iopub.status.idle": "2023-09-26T13:31:04.267348Z",
          "shell.execute_reply": "2023-09-26T13:31:04.266198Z",
          "shell.execute_reply.started": "2023-09-26T13:31:03.502176Z"
        },
        "trusted": true,
        "id": "njnA_drOjFX2",
        "outputId": "72651bbf-da50-4318-c685-794431bef5c4"
      },
      "outputs": [
        {
          "data": {
            "text/html": [
              "<div>\n",
              "<style scoped>\n",
              "    .dataframe tbody tr th:only-of-type {\n",
              "        vertical-align: middle;\n",
              "    }\n",
              "\n",
              "    .dataframe tbody tr th {\n",
              "        vertical-align: top;\n",
              "    }\n",
              "\n",
              "    .dataframe thead th {\n",
              "        text-align: right;\n",
              "    }\n",
              "</style>\n",
              "<table border=\"1\" class=\"dataframe\">\n",
              "  <thead>\n",
              "    <tr style=\"text-align: right;\">\n",
              "      <th></th>\n",
              "      <th>F1 Score(threat)</th>\n",
              "    </tr>\n",
              "  </thead>\n",
              "  <tbody>\n",
              "    <tr>\n",
              "      <th>Log Regression</th>\n",
              "      <td>0.897338</td>\n",
              "    </tr>\n",
              "    <tr>\n",
              "      <th>KNN</th>\n",
              "      <td>0.852459</td>\n",
              "    </tr>\n",
              "    <tr>\n",
              "      <th>BernoulliNB</th>\n",
              "      <td>0.745205</td>\n",
              "    </tr>\n",
              "    <tr>\n",
              "      <th>MultinomialNB</th>\n",
              "      <td>0.902098</td>\n",
              "    </tr>\n",
              "    <tr>\n",
              "      <th>SVM</th>\n",
              "      <td>0.894737</td>\n",
              "    </tr>\n",
              "    <tr>\n",
              "      <th>Random Forest</th>\n",
              "      <td>0.923077</td>\n",
              "    </tr>\n",
              "  </tbody>\n",
              "</table>\n",
              "</div>"
            ],
            "text/plain": [
              "                F1 Score(threat)\n",
              "Log Regression          0.897338\n",
              "KNN                     0.852459\n",
              "BernoulliNB             0.745205\n",
              "MultinomialNB           0.902098\n",
              "SVM                     0.894737\n",
              "Random Forest           0.923077"
            ]
          },
          "execution_count": 75,
          "metadata": {},
          "output_type": "execute_result"
        }
      ],
      "source": [
        "threat_comment_cv = cv_tf_train_test(Threatening_comment_balanced, 'threat', TfidfVectorizer, (1,1))\n",
        "threat_comment_cv.rename(columns={'F1 Score': 'F1 Score(threat)'}, inplace=True)\n",
        "threat_comment_cv"
      ]
    },
    {
      "cell_type": "code",
      "execution_count": null,
      "metadata": {
        "execution": {
          "iopub.execute_input": "2023-09-26T13:31:16.238872Z",
          "iopub.status.busy": "2023-09-26T13:31:16.238452Z",
          "iopub.status.idle": "2023-09-26T13:31:33.339393Z",
          "shell.execute_reply": "2023-09-26T13:31:33.338185Z",
          "shell.execute_reply.started": "2023-09-26T13:31:16.238838Z"
        },
        "trusted": true,
        "id": "D4ONy4CgjFX2",
        "outputId": "f2d5298e-b7a1-48d9-9037-eae5b709a86c"
      },
      "outputs": [
        {
          "data": {
            "text/html": [
              "<div>\n",
              "<style scoped>\n",
              "    .dataframe tbody tr th:only-of-type {\n",
              "        vertical-align: middle;\n",
              "    }\n",
              "\n",
              "    .dataframe tbody tr th {\n",
              "        vertical-align: top;\n",
              "    }\n",
              "\n",
              "    .dataframe thead th {\n",
              "        text-align: right;\n",
              "    }\n",
              "</style>\n",
              "<table border=\"1\" class=\"dataframe\">\n",
              "  <thead>\n",
              "    <tr style=\"text-align: right;\">\n",
              "      <th></th>\n",
              "      <th>F1 Score(insult)</th>\n",
              "    </tr>\n",
              "  </thead>\n",
              "  <tbody>\n",
              "    <tr>\n",
              "      <th>Log Regression</th>\n",
              "      <td>0.901851</td>\n",
              "    </tr>\n",
              "    <tr>\n",
              "      <th>KNN</th>\n",
              "      <td>0.382755</td>\n",
              "    </tr>\n",
              "    <tr>\n",
              "      <th>BernoulliNB</th>\n",
              "      <td>0.776986</td>\n",
              "    </tr>\n",
              "    <tr>\n",
              "      <th>MultinomialNB</th>\n",
              "      <td>0.896299</td>\n",
              "    </tr>\n",
              "    <tr>\n",
              "      <th>SVM</th>\n",
              "      <td>0.906218</td>\n",
              "    </tr>\n",
              "    <tr>\n",
              "      <th>Random Forest</th>\n",
              "      <td>0.890821</td>\n",
              "    </tr>\n",
              "  </tbody>\n",
              "</table>\n",
              "</div>"
            ],
            "text/plain": [
              "                F1 Score(insult)\n",
              "Log Regression          0.901851\n",
              "KNN                     0.382755\n",
              "BernoulliNB             0.776986\n",
              "MultinomialNB           0.896299\n",
              "SVM                     0.906218\n",
              "Random Forest           0.890821"
            ]
          },
          "execution_count": 76,
          "metadata": {},
          "output_type": "execute_result"
        }
      ],
      "source": [
        "insult_comment_cv = cv_tf_train_test(Insulting_comment_balanced, 'insult', TfidfVectorizer, (1,1))\n",
        "insult_comment_cv.rename(columns={'F1 Score': 'F1 Score(insult)'}, inplace=True)\n",
        "insult_comment_cv"
      ]
    },
    {
      "cell_type": "code",
      "execution_count": null,
      "metadata": {
        "execution": {
          "iopub.execute_input": "2023-09-26T13:31:37.452020Z",
          "iopub.status.busy": "2023-09-26T13:31:37.451638Z",
          "iopub.status.idle": "2023-09-26T13:31:40.311914Z",
          "shell.execute_reply": "2023-09-26T13:31:40.310804Z",
          "shell.execute_reply.started": "2023-09-26T13:31:37.451992Z"
        },
        "trusted": true,
        "id": "pOVWfcnWjFX2",
        "outputId": "7e6c5974-92c7-4703-b316-234a1415fa21"
      },
      "outputs": [
        {
          "data": {
            "text/html": [
              "<div>\n",
              "<style scoped>\n",
              "    .dataframe tbody tr th:only-of-type {\n",
              "        vertical-align: middle;\n",
              "    }\n",
              "\n",
              "    .dataframe tbody tr th {\n",
              "        vertical-align: top;\n",
              "    }\n",
              "\n",
              "    .dataframe thead th {\n",
              "        text-align: right;\n",
              "    }\n",
              "</style>\n",
              "<table border=\"1\" class=\"dataframe\">\n",
              "  <thead>\n",
              "    <tr style=\"text-align: right;\">\n",
              "      <th></th>\n",
              "      <th>F1 Score(identity_hate)</th>\n",
              "    </tr>\n",
              "  </thead>\n",
              "  <tbody>\n",
              "    <tr>\n",
              "      <th>Log Regression</th>\n",
              "      <td>0.905707</td>\n",
              "    </tr>\n",
              "    <tr>\n",
              "      <th>KNN</th>\n",
              "      <td>0.820046</td>\n",
              "    </tr>\n",
              "    <tr>\n",
              "      <th>BernoulliNB</th>\n",
              "      <td>0.776699</td>\n",
              "    </tr>\n",
              "    <tr>\n",
              "      <th>MultinomialNB</th>\n",
              "      <td>0.903302</td>\n",
              "    </tr>\n",
              "    <tr>\n",
              "      <th>SVM</th>\n",
              "      <td>0.896806</td>\n",
              "    </tr>\n",
              "    <tr>\n",
              "      <th>Random Forest</th>\n",
              "      <td>0.888087</td>\n",
              "    </tr>\n",
              "  </tbody>\n",
              "</table>\n",
              "</div>"
            ],
            "text/plain": [
              "                F1 Score(identity_hate)\n",
              "Log Regression                 0.905707\n",
              "KNN                            0.820046\n",
              "BernoulliNB                    0.776699\n",
              "MultinomialNB                  0.903302\n",
              "SVM                            0.896806\n",
              "Random Forest                  0.888087"
            ]
          },
          "execution_count": 77,
          "metadata": {},
          "output_type": "execute_result"
        }
      ],
      "source": [
        "identity_hatecomment_cv = cv_tf_train_test(IdentityHate_comment_balanced, 'identity_hate', TfidfVectorizer, (1,1))\n",
        "identity_hatecomment_cv.rename(columns={'F1 Score': 'F1 Score(identity_hate)'}, inplace=True)\n",
        "identity_hatecomment_cv"
      ]
    },
    {
      "cell_type": "code",
      "execution_count": null,
      "metadata": {
        "execution": {
          "iopub.execute_input": "2023-09-26T13:31:47.513434Z",
          "iopub.status.busy": "2023-09-26T13:31:47.512919Z",
          "iopub.status.idle": "2023-09-26T13:31:59.934632Z",
          "shell.execute_reply": "2023-09-26T13:31:59.933544Z",
          "shell.execute_reply.started": "2023-09-26T13:31:47.513392Z"
        },
        "trusted": true,
        "id": "jv1br7QYjFX3",
        "outputId": "38024bba-a58f-4fad-c2c5-300b206665b8"
      },
      "outputs": [
        {
          "data": {
            "text/plain": [
              "array([0, 1, 1, ..., 1, 1, 1])"
            ]
          },
          "execution_count": 78,
          "metadata": {},
          "output_type": "execute_result"
        }
      ],
      "source": [
        "X = Toxic_comment_balanced.comment_text\n",
        "y = Toxic_comment_balanced['toxic']\n",
        "\n",
        "X_train, X_test, y_train, y_test = train_test_split(X, y, test_size=0.3, random_state=42)\n",
        "\n",
        "# Initiate a Tfidf vectorizer\n",
        "tfv = TfidfVectorizer(ngram_range=(1,1), stop_words='english')\n",
        "\n",
        "X_train_fit = tfv.fit_transform(X_train)\n",
        "X_test_fit = tfv.transform(X_test)\n",
        "randomforest = RandomForestClassifier(n_estimators=100, random_state=50)\n",
        "\n",
        "randomforest.fit(X_train_fit, y_train)\n",
        "randomforest.predict(X_test_fit)"
      ]
    },
    {
      "cell_type": "code",
      "execution_count": null,
      "metadata": {
        "execution": {
          "iopub.execute_input": "2023-09-26T13:31:59.936770Z",
          "iopub.status.busy": "2023-09-26T13:31:59.936327Z",
          "iopub.status.idle": "2023-09-26T13:31:59.954267Z",
          "shell.execute_reply": "2023-09-26T13:31:59.953120Z",
          "shell.execute_reply.started": "2023-09-26T13:31:59.936741Z"
        },
        "trusted": true,
        "id": "yMljY6SFjFX3",
        "outputId": "4ed8fc99-010e-480a-dbd4-35202bc095a0"
      },
      "outputs": [
        {
          "data": {
            "text/plain": [
              "array([0.98833333])"
            ]
          },
          "execution_count": 79,
          "metadata": {},
          "output_type": "execute_result"
        }
      ],
      "source": [
        "comment1 = ['Go kill yourself']\n",
        "comment1_vect = tfv.transform(comment1)\n",
        "randomforest.predict_proba(comment1_vect)[:,1]"
      ]
    },
    {
      "cell_type": "code",
      "execution_count": null,
      "metadata": {
        "execution": {
          "iopub.execute_input": "2023-09-26T13:32:07.159315Z",
          "iopub.status.busy": "2023-09-26T13:32:07.158920Z",
          "iopub.status.idle": "2023-09-26T13:32:07.179296Z",
          "shell.execute_reply": "2023-09-26T13:32:07.177878Z",
          "shell.execute_reply.started": "2023-09-26T13:32:07.159285Z"
        },
        "trusted": true,
        "id": "XJ-vwph2jFX3",
        "outputId": "78753dd6-25d9-4d67-dec3-9f07dc668674"
      },
      "outputs": [
        {
          "data": {
            "text/plain": [
              "array([0.30188203])"
            ]
          },
          "execution_count": 80,
          "metadata": {},
          "output_type": "execute_result"
        }
      ],
      "source": [
        "comment2 = ['Victory shall be ours']\n",
        "comment2_vect = tfv.transform(comment2)\n",
        "randomforest.predict_proba(comment2_vect)[:,1]"
      ]
    },
    {
      "cell_type": "code",
      "execution_count": null,
      "metadata": {
        "id": "4l03p_C1jFX3"
      },
      "outputs": [],
      "source": []
    }
  ],
  "metadata": {
    "kernelspec": {
      "display_name": "Python 3",
      "language": "python",
      "name": "python3"
    },
    "language_info": {
      "codemirror_mode": {
        "name": "ipython",
        "version": 3
      },
      "file_extension": ".py",
      "mimetype": "text/x-python",
      "name": "python",
      "nbconvert_exporter": "python",
      "pygments_lexer": "ipython3",
      "version": "3.11.1"
    },
    "colab": {
      "provenance": []
    }
  },
  "nbformat": 4,
  "nbformat_minor": 0
}